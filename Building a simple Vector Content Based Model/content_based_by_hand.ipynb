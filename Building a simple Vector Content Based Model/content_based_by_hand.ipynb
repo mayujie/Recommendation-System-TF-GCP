{
  "nbformat": 4,
  "nbformat_minor": 0,
  "metadata": {
    "colab": {
      "name": "content_based_by_hand.ipynb",
      "provenance": [],
      "collapsed_sections": []
    },
    "environment": {
      "name": "tf2-2-3-gpu.2-3.m56",
      "type": "gcloud",
      "uri": "gcr.io/deeplearning-platform-release/tf2-2-3-gpu.2-3:m56"
    },
    "kernelspec": {
      "display_name": "Python 3",
      "language": "python",
      "name": "python3"
    },
    "language_info": {
      "codemirror_mode": {
        "name": "ipython",
        "version": 3
      },
      "file_extension": ".py",
      "mimetype": "text/x-python",
      "name": "python",
      "nbconvert_exporter": "python",
      "pygments_lexer": "ipython3",
      "version": "3.7.8"
    }
  },
  "cells": [
    {
      "cell_type": "markdown",
      "metadata": {
        "colab_type": "text",
        "id": "2NnuRIZedJmK"
      },
      "source": [
        "## Content Based Filtering by hand\n",
        "\n",
        "This lab illustrates how to implement a content based filter using low level Tensorflow operations.  \n",
        "The code here follows the technique explained in Module 2 of Recommendation Engines: Content Based Filtering.\n",
        "\n"
      ]
    },
    {
      "cell_type": "code",
      "metadata": {
        "id": "Pvf5XTkyvJs-",
        "colab_type": "code",
        "colab": {
          "base_uri": "https://localhost:8080/",
          "height": 683
        },
        "outputId": "83643d2f-f28f-4b5c-9f64-9dedf5d92b1f"
      },
      "source": [
        "!pip install tensorflow==2.1"
      ],
      "execution_count": null,
      "outputs": [
        {
          "output_type": "stream",
          "text": [
            "Requirement already satisfied: tensorflow==2.1 in /usr/local/lib/python3.6/dist-packages (2.1.0)\n",
            "Requirement already satisfied: termcolor>=1.1.0 in /usr/local/lib/python3.6/dist-packages (from tensorflow==2.1) (1.1.0)\n",
            "Requirement already satisfied: scipy==1.4.1; python_version >= \"3\" in /usr/local/lib/python3.6/dist-packages (from tensorflow==2.1) (1.4.1)\n",
            "Requirement already satisfied: opt-einsum>=2.3.2 in /usr/local/lib/python3.6/dist-packages (from tensorflow==2.1) (3.3.0)\n",
            "Requirement already satisfied: tensorflow-estimator<2.2.0,>=2.1.0rc0 in /usr/local/lib/python3.6/dist-packages (from tensorflow==2.1) (2.1.0)\n",
            "Requirement already satisfied: grpcio>=1.8.6 in /usr/local/lib/python3.6/dist-packages (from tensorflow==2.1) (1.32.0)\n",
            "Requirement already satisfied: keras-applications>=1.0.8 in /usr/local/lib/python3.6/dist-packages (from tensorflow==2.1) (1.0.8)\n",
            "Requirement already satisfied: wrapt>=1.11.1 in /usr/local/lib/python3.6/dist-packages (from tensorflow==2.1) (1.12.1)\n",
            "Requirement already satisfied: wheel>=0.26; python_version >= \"3\" in /usr/local/lib/python3.6/dist-packages (from tensorflow==2.1) (0.35.1)\n",
            "Requirement already satisfied: six>=1.12.0 in /usr/local/lib/python3.6/dist-packages (from tensorflow==2.1) (1.15.0)\n",
            "Requirement already satisfied: keras-preprocessing>=1.1.0 in /usr/local/lib/python3.6/dist-packages (from tensorflow==2.1) (1.1.2)\n",
            "Requirement already satisfied: protobuf>=3.8.0 in /usr/local/lib/python3.6/dist-packages (from tensorflow==2.1) (3.12.4)\n",
            "Requirement already satisfied: gast==0.2.2 in /usr/local/lib/python3.6/dist-packages (from tensorflow==2.1) (0.2.2)\n",
            "Requirement already satisfied: absl-py>=0.7.0 in /usr/local/lib/python3.6/dist-packages (from tensorflow==2.1) (0.10.0)\n",
            "Requirement already satisfied: tensorboard<2.2.0,>=2.1.0 in /usr/local/lib/python3.6/dist-packages (from tensorflow==2.1) (2.1.1)\n",
            "Requirement already satisfied: google-pasta>=0.1.6 in /usr/local/lib/python3.6/dist-packages (from tensorflow==2.1) (0.2.0)\n",
            "Requirement already satisfied: astor>=0.6.0 in /usr/local/lib/python3.6/dist-packages (from tensorflow==2.1) (0.8.1)\n",
            "Requirement already satisfied: numpy<2.0,>=1.16.0 in /usr/local/lib/python3.6/dist-packages (from tensorflow==2.1) (1.18.5)\n",
            "Requirement already satisfied: h5py in /usr/local/lib/python3.6/dist-packages (from keras-applications>=1.0.8->tensorflow==2.1) (2.10.0)\n",
            "Requirement already satisfied: setuptools in /usr/local/lib/python3.6/dist-packages (from protobuf>=3.8.0->tensorflow==2.1) (50.3.0)\n",
            "Requirement already satisfied: google-auth<2,>=1.6.3 in /usr/local/lib/python3.6/dist-packages (from tensorboard<2.2.0,>=2.1.0->tensorflow==2.1) (1.17.2)\n",
            "Requirement already satisfied: requests<3,>=2.21.0 in /usr/local/lib/python3.6/dist-packages (from tensorboard<2.2.0,>=2.1.0->tensorflow==2.1) (2.23.0)\n",
            "Requirement already satisfied: werkzeug>=0.11.15 in /usr/local/lib/python3.6/dist-packages (from tensorboard<2.2.0,>=2.1.0->tensorflow==2.1) (1.0.1)\n",
            "Requirement already satisfied: markdown>=2.6.8 in /usr/local/lib/python3.6/dist-packages (from tensorboard<2.2.0,>=2.1.0->tensorflow==2.1) (3.2.2)\n",
            "Requirement already satisfied: google-auth-oauthlib<0.5,>=0.4.1 in /usr/local/lib/python3.6/dist-packages (from tensorboard<2.2.0,>=2.1.0->tensorflow==2.1) (0.4.1)\n",
            "Requirement already satisfied: cachetools<5.0,>=2.0.0 in /usr/local/lib/python3.6/dist-packages (from google-auth<2,>=1.6.3->tensorboard<2.2.0,>=2.1.0->tensorflow==2.1) (4.1.1)\n",
            "Requirement already satisfied: pyasn1-modules>=0.2.1 in /usr/local/lib/python3.6/dist-packages (from google-auth<2,>=1.6.3->tensorboard<2.2.0,>=2.1.0->tensorflow==2.1) (0.2.8)\n",
            "Requirement already satisfied: rsa<5,>=3.1.4; python_version >= \"3\" in /usr/local/lib/python3.6/dist-packages (from google-auth<2,>=1.6.3->tensorboard<2.2.0,>=2.1.0->tensorflow==2.1) (4.6)\n",
            "Requirement already satisfied: urllib3!=1.25.0,!=1.25.1,<1.26,>=1.21.1 in /usr/local/lib/python3.6/dist-packages (from requests<3,>=2.21.0->tensorboard<2.2.0,>=2.1.0->tensorflow==2.1) (1.24.3)\n",
            "Requirement already satisfied: chardet<4,>=3.0.2 in /usr/local/lib/python3.6/dist-packages (from requests<3,>=2.21.0->tensorboard<2.2.0,>=2.1.0->tensorflow==2.1) (3.0.4)\n",
            "Requirement already satisfied: idna<3,>=2.5 in /usr/local/lib/python3.6/dist-packages (from requests<3,>=2.21.0->tensorboard<2.2.0,>=2.1.0->tensorflow==2.1) (2.10)\n",
            "Requirement already satisfied: certifi>=2017.4.17 in /usr/local/lib/python3.6/dist-packages (from requests<3,>=2.21.0->tensorboard<2.2.0,>=2.1.0->tensorflow==2.1) (2020.6.20)\n",
            "Requirement already satisfied: importlib-metadata; python_version < \"3.8\" in /usr/local/lib/python3.6/dist-packages (from markdown>=2.6.8->tensorboard<2.2.0,>=2.1.0->tensorflow==2.1) (1.7.0)\n",
            "Requirement already satisfied: requests-oauthlib>=0.7.0 in /usr/local/lib/python3.6/dist-packages (from google-auth-oauthlib<0.5,>=0.4.1->tensorboard<2.2.0,>=2.1.0->tensorflow==2.1) (1.3.0)\n",
            "Requirement already satisfied: pyasn1<0.5.0,>=0.4.6 in /usr/local/lib/python3.6/dist-packages (from pyasn1-modules>=0.2.1->google-auth<2,>=1.6.3->tensorboard<2.2.0,>=2.1.0->tensorflow==2.1) (0.4.8)\n",
            "Requirement already satisfied: zipp>=0.5 in /usr/local/lib/python3.6/dist-packages (from importlib-metadata; python_version < \"3.8\"->markdown>=2.6.8->tensorboard<2.2.0,>=2.1.0->tensorflow==2.1) (3.1.0)\n",
            "Requirement already satisfied: oauthlib>=3.0.0 in /usr/local/lib/python3.6/dist-packages (from requests-oauthlib>=0.7.0->google-auth-oauthlib<0.5,>=0.4.1->tensorboard<2.2.0,>=2.1.0->tensorflow==2.1) (3.1.0)\n"
          ],
          "name": "stdout"
        }
      ]
    },
    {
      "cell_type": "markdown",
      "metadata": {
        "id": "UiQpx4oUvJtE",
        "colab_type": "text"
      },
      "source": [
        "Make sure to restart your kernel to ensure this change has taken place."
      ]
    },
    {
      "cell_type": "code",
      "metadata": {
        "colab_type": "code",
        "id": "IzbZLmz1dJmL",
        "colab": {
          "base_uri": "https://localhost:8080/",
          "height": 35
        },
        "outputId": "c7605ad6-1da0-48b6-eeec-f8470d80de26"
      },
      "source": [
        "import numpy as np\n",
        "import tensorflow as tf\n",
        "\n",
        "print(tf.__version__)"
      ],
      "execution_count": null,
      "outputs": [
        {
          "output_type": "stream",
          "text": [
            "2.1.0\n"
          ],
          "name": "stdout"
        }
      ]
    },
    {
      "cell_type": "markdown",
      "metadata": {
        "colab_type": "text",
        "id": "36uCjFhldJmR"
      },
      "source": [
        "To start, we'll create our list of users, movies and features. While the users and movies represent elements in our database, for a content-based filtering method the features of the movies are likely hand-engineered and rely on domain knowledge to provide the best embedding space. Here we use the categories of Action, Sci-Fi, Comedy, Cartoon, and Drama to describe our movies (and thus our users).\n",
        "\n",
        "In this example, we will assume our database consists of four users and six movies, listed below.  "
      ]
    },
    {
      "cell_type": "code",
      "metadata": {
        "colab_type": "code",
        "id": "ElQV43fxdJmS",
        "colab": {}
      },
      "source": [
        "users = ['Ryan', 'Danielle',  'Vijay', 'Chris']\n",
        "movies = ['Star Wars', 'The Dark Knight', 'Shrek', 'The Incredibles', 'Bleu', 'Memento']\n",
        "features = ['Action', 'Sci-Fi', 'Comedy', 'Cartoon', 'Drama']\n",
        "\n",
        "# 4 users, 6 movies, 5 features\n",
        "num_users = len(users)\n",
        "num_movies = len(movies)\n",
        "num_feats = len(features)\n",
        "num_recommendations = 2"
      ],
      "execution_count": null,
      "outputs": []
    },
    {
      "cell_type": "markdown",
      "metadata": {
        "colab_type": "text",
        "id": "s6iJCViqdJmU"
      },
      "source": [
        "### Initialize our users, movie ratings and features\n",
        "\n",
        "We'll need to enter the user's movie ratings and the k-hot encoded movie features matrix. Each row of the users_movies matrix represents a single user's rating (from 1 to 10) for each movie. A zero indicates that the user has not seen/rated that movie. The movies_feats matrix contains the features for each of the given movies. Each row represents one of the six movies, the columns represent the five categories. A one indicates that a movie fits within a given genre/category. "
      ]
    },
    {
      "cell_type": "code",
      "metadata": {
        "colab_type": "code",
        "id": "_0asiLTwdJmV",
        "colab": {}
      },
      "source": [
        "# each row represents a user's rating for the different movies\n",
        "# e.g. rows represent users ['Ryan', 'Danielle',  'Vijay', 'Chris']\n",
        "#      columns represent movies ['Star Wars', 'The Dark Knight', 'Shrek', 'The Incredibles', 'Bleu', 'Memento']\n",
        "users_movies = tf.constant([\n",
        "                [4,  6,  8,  0, 0, 0],\n",
        "                [0,  0, 10,  0, 8, 3],\n",
        "                [0,  6,  0,  0, 3, 7],\n",
        "                [10, 9,  0,  5, 0, 2]],dtype=tf.float32)\n",
        "\n",
        "# features of the movies one-hot encoded\n",
        "# e.g. columns could represent ['Action', 'Sci-Fi', 'Comedy', 'Cartoon', 'Drama']\n",
        "movies_feats = tf.constant([\n",
        "                [1, 1, 0, 0, 1],\n",
        "                [1, 1, 0, 0, 0],\n",
        "                [0, 0, 1, 1, 0],\n",
        "                [1, 0, 1, 1, 0],\n",
        "                [0, 0, 0, 0, 1],\n",
        "                [1, 0, 0, 0, 1]],dtype=tf.float32)"
      ],
      "execution_count": null,
      "outputs": []
    },
    {
      "cell_type": "code",
      "metadata": {
        "id": "ZQEkDhxexd3Y",
        "colab_type": "code",
        "colab": {
          "base_uri": "https://localhost:8080/",
          "height": 107
        },
        "outputId": "df3065d1-6445-4ffe-fcb7-cd9d5cfc0f7c"
      },
      "source": [
        "users_movies"
      ],
      "execution_count": null,
      "outputs": [
        {
          "output_type": "execute_result",
          "data": {
            "text/plain": [
              "<tf.Tensor: shape=(4, 6), dtype=float32, numpy=\n",
              "array([[ 4.,  6.,  8.,  0.,  0.,  0.],\n",
              "       [ 0.,  0., 10.,  0.,  8.,  3.],\n",
              "       [ 0.,  6.,  0.,  0.,  3.,  7.],\n",
              "       [10.,  9.,  0.,  5.,  0.,  2.]], dtype=float32)>"
            ]
          },
          "metadata": {
            "tags": []
          },
          "execution_count": 7
        }
      ]
    },
    {
      "cell_type": "code",
      "metadata": {
        "id": "FAjha3MMxgSD",
        "colab_type": "code",
        "colab": {
          "base_uri": "https://localhost:8080/",
          "height": 143
        },
        "outputId": "e1890ec8-337e-490c-aa53-dca44a7888ff"
      },
      "source": [
        "movies_feats"
      ],
      "execution_count": null,
      "outputs": [
        {
          "output_type": "execute_result",
          "data": {
            "text/plain": [
              "<tf.Tensor: shape=(6, 5), dtype=float32, numpy=\n",
              "array([[1., 1., 0., 0., 1.],\n",
              "       [1., 1., 0., 0., 0.],\n",
              "       [0., 0., 1., 1., 0.],\n",
              "       [1., 0., 1., 1., 0.],\n",
              "       [0., 0., 0., 0., 1.],\n",
              "       [1., 0., 0., 0., 1.]], dtype=float32)>"
            ]
          },
          "metadata": {
            "tags": []
          },
          "execution_count": 8
        }
      ]
    },
    {
      "cell_type": "markdown",
      "metadata": {
        "colab_type": "text",
        "id": "aCW5BtGudJmX"
      },
      "source": [
        "### Computing the user feature matrix\n",
        "\n",
        "One goal of this lab is to familiarize ourselves with low-level tensorflow operations, so we create tensorflow constants to represent the user-movie interaction and movie-feature matrices above.\n",
        "Through the subsequent cells, we will compute the user feature matrix; that is, a matrix containing each user's embedding in the five-dimensional feature space. Complete the TODOs to compute the requested tensors as illustrated in the Content Based Filtering module slides.\n",
        "\n",
        "We will compute the user feature matrix; that is, a matrix containing each user's embedding in the five-dimensional feature space. "
      ]
    },
    {
      "cell_type": "code",
      "metadata": {
        "colab_type": "code",
        "id": "isMCBMOFdJmY",
        "colab": {
          "base_uri": "https://localhost:8080/",
          "height": 107
        },
        "outputId": "5a5336e0-2eba-4782-8217-45a43d8c9357"
      },
      "source": [
        "users_feats = tf.matmul(users_movies,movies_feats)\n",
        "users_feats"
      ],
      "execution_count": null,
      "outputs": [
        {
          "output_type": "execute_result",
          "data": {
            "text/plain": [
              "<tf.Tensor: shape=(4, 5), dtype=float32, numpy=\n",
              "array([[10., 10.,  8.,  8.,  4.],\n",
              "       [ 3.,  0., 10., 10., 11.],\n",
              "       [13.,  6.,  0.,  0., 10.],\n",
              "       [26., 19.,  5.,  5., 12.]], dtype=float32)>"
            ]
          },
          "metadata": {
            "tags": []
          },
          "execution_count": 6
        }
      ]
    },
    {
      "cell_type": "markdown",
      "metadata": {
        "colab_type": "text",
        "id": "Ps7XXoYwdJmc"
      },
      "source": [
        "To determine where each user lies in the feature embedding space, we compute the user-feature vectors by normalizing each user-feature vector. Complete the TODO in the following cell to find the full user-feature tensor; that is, a tensor where each row represents a single user's feature embedding.\n",
        "\n",
        "Next we normalize each user feature vector to sum to 1. Normalizing isn't strictly neccesary, but it makes it so that rating magnitudes will be comparable between users."
      ]
    },
    {
      "cell_type": "code",
      "metadata": {
        "colab_type": "code",
        "id": "y81EeooodJmc",
        "colab": {
          "base_uri": "https://localhost:8080/",
          "height": 125
        },
        "outputId": "71c4f10d-fc84-4c73-c7b4-3ff1cbd91003"
      },
      "source": [
        "users_feats = users_feats/tf.reduce_sum(users_feats,axis=1,keepdims=True)\n",
        "users_feats"
      ],
      "execution_count": null,
      "outputs": [
        {
          "output_type": "execute_result",
          "data": {
            "text/plain": [
              "<tf.Tensor: shape=(4, 5), dtype=float32, numpy=\n",
              "array([[0.25      , 0.25      , 0.2       , 0.2       , 0.1       ],\n",
              "       [0.0882353 , 0.        , 0.29411766, 0.29411766, 0.32352942],\n",
              "       [0.44827586, 0.20689656, 0.        , 0.        , 0.3448276 ],\n",
              "       [0.3880597 , 0.2835821 , 0.07462686, 0.07462686, 0.17910448]],\n",
              "      dtype=float32)>"
            ]
          },
          "metadata": {
            "tags": []
          },
          "execution_count": 9
        }
      ]
    },
    {
      "cell_type": "markdown",
      "metadata": {
        "colab_type": "text",
        "id": "kqOPr51tdJmf"
      },
      "source": [
        "#### Ranking feature relevance for each user\n",
        "\n",
        "We can use the users_feats computed above to represent the relative importance of each movie category for each user. "
      ]
    },
    {
      "cell_type": "code",
      "metadata": {
        "id": "OfoBiFPQ1V7e",
        "colab_type": "code",
        "colab": {
          "base_uri": "https://localhost:8080/",
          "height": 197
        },
        "outputId": "c0a6f092-b69d-4763-b7b4-945d11bc4be0"
      },
      "source": [
        "tf.nn.top_k(users_feats, num_feats)"
      ],
      "execution_count": null,
      "outputs": [
        {
          "output_type": "execute_result",
          "data": {
            "text/plain": [
              "TopKV2(values=<tf.Tensor: shape=(4, 5), dtype=float32, numpy=\n",
              "array([[0.25      , 0.25      , 0.2       , 0.2       , 0.1       ],\n",
              "       [0.32352942, 0.29411766, 0.29411766, 0.0882353 , 0.        ],\n",
              "       [0.44827586, 0.3448276 , 0.20689656, 0.        , 0.        ],\n",
              "       [0.3880597 , 0.2835821 , 0.17910448, 0.07462686, 0.07462686]],\n",
              "      dtype=float32)>, indices=<tf.Tensor: shape=(4, 5), dtype=int32, numpy=\n",
              "array([[0, 1, 2, 3, 4],\n",
              "       [4, 2, 3, 0, 1],\n",
              "       [0, 4, 1, 2, 3],\n",
              "       [0, 1, 4, 2, 3]], dtype=int32)>)"
            ]
          },
          "metadata": {
            "tags": []
          },
          "execution_count": 15
        }
      ]
    },
    {
      "cell_type": "code",
      "metadata": {
        "colab_type": "code",
        "id": "PKLqAD3adJmg",
        "colab": {
          "base_uri": "https://localhost:8080/",
          "height": 107
        },
        "outputId": "a0ce2e4c-bcf6-49ce-cfc9-ab741f29745e"
      },
      "source": [
        "top_users_features = tf.nn.top_k(users_feats, num_feats)[1]\n",
        "top_users_features"
      ],
      "execution_count": null,
      "outputs": [
        {
          "output_type": "execute_result",
          "data": {
            "text/plain": [
              "<tf.Tensor: shape=(4, 5), dtype=int32, numpy=\n",
              "array([[0, 1, 2, 3, 4],\n",
              "       [4, 2, 3, 0, 1],\n",
              "       [0, 4, 1, 2, 3],\n",
              "       [0, 1, 4, 2, 3]], dtype=int32)>"
            ]
          },
          "metadata": {
            "tags": []
          },
          "execution_count": 16
        }
      ]
    },
    {
      "cell_type": "code",
      "metadata": {
        "colab_type": "code",
        "id": "pvUmu7MUdJmj",
        "colab": {
          "base_uri": "https://localhost:8080/",
          "height": 84
        },
        "outputId": "a9e89bb0-330b-4687-866e-0f209910d8c0"
      },
      "source": [
        "for i in range(num_users):\n",
        "    feature_names = [features[int(index)] for index in top_users_features[i]]\n",
        "    print('{}: {}'.format(users[i],feature_names))"
      ],
      "execution_count": null,
      "outputs": [
        {
          "output_type": "stream",
          "text": [
            "Ryan: ['Action', 'Sci-Fi', 'Comedy', 'Cartoon', 'Drama']\n",
            "Danielle: ['Drama', 'Comedy', 'Cartoon', 'Action', 'Sci-Fi']\n",
            "Vijay: ['Action', 'Drama', 'Sci-Fi', 'Comedy', 'Cartoon']\n",
            "Chris: ['Action', 'Sci-Fi', 'Drama', 'Comedy', 'Cartoon']\n"
          ],
          "name": "stdout"
        }
      ]
    },
    {
      "cell_type": "markdown",
      "metadata": {
        "colab_type": "text",
        "id": "Yne0CyZMdJmn"
      },
      "source": [
        "### Determining movie recommendations. \n",
        "\n",
        "We'll now use the `users_feats` tensor we computed above to determine the movie ratings and recommendations for each user.\n",
        "\n",
        "To compute the projected ratings for each movie, we compute the similarity measure between the user's feature vector and the corresponding movie feature vector.  \n",
        "\n",
        "We will use the dot product as our similarity measure. In essence, this is a weighted movie average for each user."
      ]
    },
    {
      "cell_type": "code",
      "metadata": {
        "id": "he65OCNovJtn",
        "colab_type": "code",
        "colab": {
          "base_uri": "https://localhost:8080/",
          "height": 179
        },
        "outputId": "89cfc0ed-f9ac-4c25-8243-c7692fa8d8b7"
      },
      "source": [
        "## Finding the inferred movie rankings for our users\n",
        "users_ratings = tf.matmul(users_feats,tf.transpose(movies_feats))\n",
        "users_ratings"
      ],
      "execution_count": null,
      "outputs": [
        {
          "output_type": "execute_result",
          "data": {
            "text/plain": [
              "<tf.Tensor: shape=(4, 6), dtype=float32, numpy=\n",
              "array([[0.6       , 0.5       , 0.4       , 0.65      , 0.1       ,\n",
              "        0.35      ],\n",
              "       [0.4117647 , 0.0882353 , 0.5882353 , 0.67647064, 0.32352942,\n",
              "        0.4117647 ],\n",
              "       [1.        , 0.6551724 , 0.        , 0.44827586, 0.3448276 ,\n",
              "        0.79310346],\n",
              "       [0.8507463 , 0.6716418 , 0.14925373, 0.53731346, 0.17910448,\n",
              "        0.5671642 ]], dtype=float32)>"
            ]
          },
          "metadata": {
            "tags": []
          },
          "execution_count": 25
        }
      ]
    },
    {
      "cell_type": "markdown",
      "metadata": {
        "colab_type": "text",
        "id": "o07wODzddJmq"
      },
      "source": [
        "The computation above finds the similarity measure between each user and each movie in our database. To focus only on the ratings for new movies, we apply a mask to the all_users_ratings matrix.  \n",
        "\n",
        "If a user has already rated a movie, we ignore that rating. This way, we only focus on ratings for previously unseen/unrated movies."
      ]
    },
    {
      "cell_type": "code",
      "metadata": {
        "id": "c77CEpBn5Ez_",
        "colab_type": "code",
        "colab": {
          "base_uri": "https://localhost:8080/",
          "height": 197
        },
        "outputId": "e5b67de6-ddbf-4eb3-9a5a-a9ff1fbea8b0"
      },
      "source": [
        "users_movies, tf.zeros_like(users_movies)"
      ],
      "execution_count": null,
      "outputs": [
        {
          "output_type": "execute_result",
          "data": {
            "text/plain": [
              "(<tf.Tensor: shape=(4, 6), dtype=float32, numpy=\n",
              " array([[ 4.,  6.,  8.,  0.,  0.,  0.],\n",
              "        [ 0.,  0., 10.,  0.,  8.,  3.],\n",
              "        [ 0.,  6.,  0.,  0.,  3.,  7.],\n",
              "        [10.,  9.,  0.,  5.,  0.,  2.]], dtype=float32)>,\n",
              " <tf.Tensor: shape=(4, 6), dtype=float32, numpy=\n",
              " array([[0., 0., 0., 0., 0., 0.],\n",
              "        [0., 0., 0., 0., 0., 0.],\n",
              "        [0., 0., 0., 0., 0., 0.],\n",
              "        [0., 0., 0., 0., 0., 0.]], dtype=float32)>)"
            ]
          },
          "metadata": {
            "tags": []
          },
          "execution_count": 28
        }
      ]
    },
    {
      "cell_type": "code",
      "metadata": {
        "id": "jVV4kNP08L72",
        "colab_type": "code",
        "colab": {
          "base_uri": "https://localhost:8080/",
          "height": 107
        },
        "outputId": "4d39b35f-cc24-4b7c-e5cf-68f2cfe48841"
      },
      "source": [
        "tf.equal(users_movies, tf.zeros_like(users_movies))"
      ],
      "execution_count": null,
      "outputs": [
        {
          "output_type": "execute_result",
          "data": {
            "text/plain": [
              "<tf.Tensor: shape=(4, 6), dtype=bool, numpy=\n",
              "array([[False, False, False,  True,  True,  True],\n",
              "       [ True,  True, False,  True, False, False],\n",
              "       [ True, False,  True,  True, False, False],\n",
              "       [False, False,  True, False,  True, False]])>"
            ]
          },
          "metadata": {
            "tags": []
          },
          "execution_count": 27
        }
      ]
    },
    {
      "cell_type": "code",
      "metadata": {
        "colab_type": "code",
        "id": "xUgOnV3AdJmr",
        "colab": {
          "base_uri": "https://localhost:8080/",
          "height": 179
        },
        "outputId": "74860094-8f5a-4132-fda4-ed0f20c30b4d"
      },
      "source": [
        "## Compare the user-movie ranking matrix with the original to see which movies to recommend to which user\n",
        "## true return user_ratings, false return 0\n",
        "users_ratings_new = tf.where(tf.equal(users_movies, tf.zeros_like(users_movies)),\n",
        "                                  users_ratings,\n",
        "                                  tf.zeros_like(tf.cast(users_movies, tf.float32)))\n",
        "users_ratings_new"
      ],
      "execution_count": null,
      "outputs": [
        {
          "output_type": "execute_result",
          "data": {
            "text/plain": [
              "<tf.Tensor: shape=(4, 6), dtype=float32, numpy=\n",
              "array([[0.        , 0.        , 0.        , 0.65      , 0.1       ,\n",
              "        0.35      ],\n",
              "       [0.4117647 , 0.0882353 , 0.        , 0.67647064, 0.        ,\n",
              "        0.        ],\n",
              "       [1.        , 0.        , 0.        , 0.44827586, 0.        ,\n",
              "        0.        ],\n",
              "       [0.        , 0.        , 0.14925373, 0.        , 0.17910448,\n",
              "        0.        ]], dtype=float32)>"
            ]
          },
          "metadata": {
            "tags": []
          },
          "execution_count": 31
        }
      ]
    },
    {
      "cell_type": "markdown",
      "metadata": {
        "colab_type": "text",
        "id": "YyNvH46zdJmu"
      },
      "source": [
        "Finally let's grab and print out the top 2 rated movies for each user"
      ]
    },
    {
      "cell_type": "code",
      "metadata": {
        "colab_type": "code",
        "id": "PdDGgmSpdJmv",
        "colab": {
          "base_uri": "https://localhost:8080/",
          "height": 107
        },
        "outputId": "dfdb98dd-28c4-495f-b0c9-491edb3d68bd"
      },
      "source": [
        "top_movies = tf.nn.top_k(users_ratings_new, num_recommendations)[1]\n",
        "top_movies"
      ],
      "execution_count": null,
      "outputs": [
        {
          "output_type": "execute_result",
          "data": {
            "text/plain": [
              "<tf.Tensor: shape=(4, 2), dtype=int32, numpy=\n",
              "array([[3, 5],\n",
              "       [3, 0],\n",
              "       [0, 3],\n",
              "       [4, 2]], dtype=int32)>"
            ]
          },
          "metadata": {
            "tags": []
          },
          "execution_count": 32
        }
      ]
    },
    {
      "cell_type": "code",
      "metadata": {
        "colab_type": "code",
        "id": "dCB7Dv9_dJmx",
        "colab": {
          "base_uri": "https://localhost:8080/",
          "height": 89
        },
        "outputId": "e2fa3073-47da-4782-92ab-d220f305e3ce"
      },
      "source": [
        "for i in range(num_users):\n",
        "    movie_names = [movies[index] for index in top_movies[i]]\n",
        "    print('{}: {}'.format(users[i],movie_names))"
      ],
      "execution_count": null,
      "outputs": [
        {
          "output_type": "stream",
          "text": [
            "Ryan: ['The Incredibles', 'Memento']\n",
            "Danielle: ['The Incredibles', 'Star Wars']\n",
            "Vijay: ['Star Wars', 'The Incredibles']\n",
            "Chris: ['Bleu', 'Shrek']\n"
          ],
          "name": "stdout"
        }
      ]
    },
    {
      "cell_type": "markdown",
      "metadata": {
        "id": "meeUSYGt9q0D",
        "colab_type": "text"
      },
      "source": [
        "The above dictionary now holds the recommendations we should make for each user. For example, for Danielle, we would recommend the movie The Incredibles as a top pick, followed by Star Wars."
      ]
    },
    {
      "cell_type": "code",
      "metadata": {
        "id": "m__B7KqAvJt4",
        "colab_type": "code",
        "colab": {}
      },
      "source": [
        ""
      ],
      "execution_count": null,
      "outputs": []
    }
  ]
}